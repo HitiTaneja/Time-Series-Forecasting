{
 "cells": [
  {
   "cell_type": "markdown",
   "metadata": {},
   "source": [
    "## Initial Setup"
   ]
  },
  {
   "cell_type": "code",
   "execution_count": 1,
   "metadata": {},
   "outputs": [],
   "source": [
    "import pandas as pd\n",
    "import numpy as np\n",
    "import matplotlib.pyplot as plt\n",
    "%matplotlib inline\n",
    "\n",
    "import warnings\n",
    "warnings.filterwarnings('ignore')"
   ]
  },
  {
   "cell_type": "markdown",
   "metadata": {},
   "source": [
    "## Import time series data: BitCoin"
   ]
  },
  {
   "cell_type": "code",
   "execution_count": 2,
   "metadata": {},
   "outputs": [
    {
     "data": {
      "text/html": [
       "<div>\n",
       "<style scoped>\n",
       "    .dataframe tbody tr th:only-of-type {\n",
       "        vertical-align: middle;\n",
       "    }\n",
       "\n",
       "    .dataframe tbody tr th {\n",
       "        vertical-align: top;\n",
       "    }\n",
       "\n",
       "    .dataframe thead th {\n",
       "        text-align: right;\n",
       "    }\n",
       "</style>\n",
       "<table border=\"1\" class=\"dataframe\">\n",
       "  <thead>\n",
       "    <tr style=\"text-align: right;\">\n",
       "      <th></th>\n",
       "      <th>Price</th>\n",
       "    </tr>\n",
       "    <tr>\n",
       "      <th>Month</th>\n",
       "      <th></th>\n",
       "    </tr>\n",
       "  </thead>\n",
       "  <tbody>\n",
       "    <tr>\n",
       "      <td>0</td>\n",
       "      <td>217.4</td>\n",
       "    </tr>\n",
       "    <tr>\n",
       "      <td>1</td>\n",
       "      <td>255.7</td>\n",
       "    </tr>\n",
       "    <tr>\n",
       "      <td>2</td>\n",
       "      <td>244.3</td>\n",
       "    </tr>\n",
       "    <tr>\n",
       "      <td>3</td>\n",
       "      <td>236.1</td>\n",
       "    </tr>\n",
       "    <tr>\n",
       "      <td>4</td>\n",
       "      <td>228.7</td>\n",
       "    </tr>\n",
       "    <tr>\n",
       "      <td>5</td>\n",
       "      <td>262.9</td>\n",
       "    </tr>\n",
       "    <tr>\n",
       "      <td>6</td>\n",
       "      <td>284.5</td>\n",
       "    </tr>\n",
       "    <tr>\n",
       "      <td>7</td>\n",
       "      <td>231.4</td>\n",
       "    </tr>\n",
       "    <tr>\n",
       "      <td>8</td>\n",
       "      <td>236.5</td>\n",
       "    </tr>\n",
       "    <tr>\n",
       "      <td>9</td>\n",
       "      <td>316.0</td>\n",
       "    </tr>\n",
       "    <tr>\n",
       "      <td>10</td>\n",
       "      <td>376.9</td>\n",
       "    </tr>\n",
       "    <tr>\n",
       "      <td>11</td>\n",
       "      <td>429.0</td>\n",
       "    </tr>\n",
       "  </tbody>\n",
       "</table>\n",
       "</div>"
      ],
      "text/plain": [
       "       Price\n",
       "Month       \n",
       "0      217.4\n",
       "1      255.7\n",
       "2      244.3\n",
       "3      236.1\n",
       "4      228.7\n",
       "5      262.9\n",
       "6      284.5\n",
       "7      231.4\n",
       "8      236.5\n",
       "9      316.0\n",
       "10     376.9\n",
       "11     429.0"
      ]
     },
     "execution_count": 2,
     "metadata": {},
     "output_type": "execute_result"
    }
   ],
   "source": [
    "data = pd.read_csv('Source Data/bitcoinfinal.csv', header=None)\n",
    "data.columns = ['Month', 'Price']\n",
    "data = data.set_index('Month')\n",
    "data.head(12)"
   ]
  },
  {
   "cell_type": "markdown",
   "metadata": {},
   "source": [
    "## Splitting time series into Training and Test Sets"
   ]
  },
  {
   "cell_type": "code",
   "execution_count": 3,
   "metadata": {},
   "outputs": [
    {
     "data": {
      "image/png": "[encoded data removed]",
      "text/plain": [
       "<Figure size 864x288 with 1 Axes>"
      ]
     },
     "metadata": {
      "needs_background": "light"
     },
     "output_type": "display_data"
    }
   ],
   "source": [
    "train_len = 29\n",
    "train = data[0:train_len]\n",
    "test = data[train_len:]\n",
    "\n",
    "plt.figure(figsize=(12,4))\n",
    "plt.plot(train['Price'], label='Train')\n",
    "plt.plot(test['Price'], label='Test')\n",
    "plt.legend(loc='best')\n",
    "plt.title('Training and Test Data Set')\n",
    "plt.show()"
   ]
  },
  {
   "cell_type": "markdown",
   "metadata": {},
   "source": [
    "### Naive Method"
   ]
  },
  {
   "cell_type": "code",
   "execution_count": 4,
   "metadata": {},
   "outputs": [
    {
     "data": {
      "text/html": [
       "<div>\n",
       "<style scoped>\n",
       "    .dataframe tbody tr th:only-of-type {\n",
       "        vertical-align: middle;\n",
       "    }\n",
       "\n",
       "    .dataframe tbody tr th {\n",
       "        vertical-align: top;\n",
       "    }\n",
       "\n",
       "    .dataframe thead th {\n",
       "        text-align: right;\n",
       "    }\n",
       "</style>\n",
       "<table border=\"1\" class=\"dataframe\">\n",
       "  <thead>\n",
       "    <tr style=\"text-align: right;\">\n",
       "      <th></th>\n",
       "      <th>Price</th>\n",
       "      <th>naive_forecast</th>\n",
       "    </tr>\n",
       "    <tr>\n",
       "      <th>Month</th>\n",
       "      <th></th>\n",
       "      <th></th>\n",
       "    </tr>\n",
       "  </thead>\n",
       "  <tbody>\n",
       "    <tr>\n",
       "      <td>29</td>\n",
       "      <td>2420.7</td>\n",
       "      <td>2191.8</td>\n",
       "    </tr>\n",
       "    <tr>\n",
       "      <td>30</td>\n",
       "      <td>2856.0</td>\n",
       "      <td>2191.8</td>\n",
       "    </tr>\n",
       "    <tr>\n",
       "      <td>31</td>\n",
       "      <td>4268.8</td>\n",
       "      <td>2191.8</td>\n",
       "    </tr>\n",
       "  </tbody>\n",
       "</table>\n",
       "</div>"
      ],
      "text/plain": [
       "        Price  naive_forecast\n",
       "Month                        \n",
       "29     2420.7          2191.8\n",
       "30     2856.0          2191.8\n",
       "31     4268.8          2191.8"
      ]
     },
     "execution_count": 4,
     "metadata": {},
     "output_type": "execute_result"
    }
   ],
   "source": [
    "y_hat_naive = test.copy()\n",
    "y_hat_naive['naive_forecast'] = np.round(train['Price'][train_len-1], 2)\n",
    "y_hat_naive"
   ]
  },
  {
   "cell_type": "markdown",
   "metadata": {},
   "source": [
    "## Calculate RMSE and MAPE to evaulate forecast - naive method"
   ]
  },
  {
   "cell_type": "code",
   "execution_count": 5,
   "metadata": {},
   "outputs": [],
   "source": [
    "from sklearn.metrics import mean_squared_error\n",
    "\n",
    "rmse = np.sqrt(mean_squared_error(test['Price'],y_hat_naive['naive_forecast'])).round(2)\n",
    "mape = np.round(np.mean(np.abs(test['Price']-y_hat_naive['naive_forecast'])/test['Price'])*100,2)\n",
    "\n",
    "results = pd.DataFrame({'Method': 'Naive Method', 'MAPE': [mape], 'RMSE': [rmse]})\n",
    "results = results[['Method', 'MAPE', 'RMSE']]"
   ]
  },
  {
   "cell_type": "markdown",
   "metadata": {},
   "source": [
    "### Simple Average Method"
   ]
  },
  {
   "cell_type": "code",
   "execution_count": 6,
   "metadata": {},
   "outputs": [
    {
     "data": {
      "text/html": [
       "<div>\n",
       "<style scoped>\n",
       "    .dataframe tbody tr th:only-of-type {\n",
       "        vertical-align: middle;\n",
       "    }\n",
       "\n",
       "    .dataframe tbody tr th {\n",
       "        vertical-align: top;\n",
       "    }\n",
       "\n",
       "    .dataframe thead th {\n",
       "        text-align: right;\n",
       "    }\n",
       "</style>\n",
       "<table border=\"1\" class=\"dataframe\">\n",
       "  <thead>\n",
       "    <tr style=\"text-align: right;\">\n",
       "      <th></th>\n",
       "      <th>Price</th>\n",
       "      <th>avg_forecast</th>\n",
       "    </tr>\n",
       "    <tr>\n",
       "      <th>Month</th>\n",
       "      <th></th>\n",
       "      <th></th>\n",
       "    </tr>\n",
       "  </thead>\n",
       "  <tbody>\n",
       "    <tr>\n",
       "      <td>29</td>\n",
       "      <td>2420.7</td>\n",
       "      <td>595.75</td>\n",
       "    </tr>\n",
       "    <tr>\n",
       "      <td>30</td>\n",
       "      <td>2856.0</td>\n",
       "      <td>595.75</td>\n",
       "    </tr>\n",
       "    <tr>\n",
       "      <td>31</td>\n",
       "      <td>4268.8</td>\n",
       "      <td>595.75</td>\n",
       "    </tr>\n",
       "  </tbody>\n",
       "</table>\n",
       "</div>"
      ],
      "text/plain": [
       "        Price  avg_forecast\n",
       "Month                      \n",
       "29     2420.7        595.75\n",
       "30     2856.0        595.75\n",
       "31     4268.8        595.75"
      ]
     },
     "execution_count": 6,
     "metadata": {},
     "output_type": "execute_result"
    }
   ],
   "source": [
    "y_hat_avg = test.copy()\n",
    "y_hat_avg['avg_forecast'] = np.round(train['Price'].mean(), 2)\n",
    "y_hat_avg"
   ]
  },
  {
   "cell_type": "markdown",
   "metadata": {},
   "source": [
    "## Calculate RMSE and MAPE to evaulate forecast - simple average method"
   ]
  },
  {
   "cell_type": "code",
   "execution_count": 7,
   "metadata": {},
   "outputs": [
    {
     "data": {
      "text/html": [
       "<div>\n",
       "<style scoped>\n",
       "    .dataframe tbody tr th:only-of-type {\n",
       "        vertical-align: middle;\n",
       "    }\n",
       "\n",
       "    .dataframe tbody tr th {\n",
       "        vertical-align: top;\n",
       "    }\n",
       "\n",
       "    .dataframe thead th {\n",
       "        text-align: right;\n",
       "    }\n",
       "</style>\n",
       "<table border=\"1\" class=\"dataframe\">\n",
       "  <thead>\n",
       "    <tr style=\"text-align: right;\">\n",
       "      <th></th>\n",
       "      <th>Method</th>\n",
       "      <th>MAPE</th>\n",
       "      <th>RMSE</th>\n",
       "    </tr>\n",
       "  </thead>\n",
       "  <tbody>\n",
       "    <tr>\n",
       "      <td>0</td>\n",
       "      <td>Naive Method</td>\n",
       "      <td>27.12</td>\n",
       "      <td>1265.90</td>\n",
       "    </tr>\n",
       "    <tr>\n",
       "      <td>0</td>\n",
       "      <td>Naive Method</td>\n",
       "      <td>80.19</td>\n",
       "      <td>2703.73</td>\n",
       "    </tr>\n",
       "  </tbody>\n",
       "</table>\n",
       "</div>"
      ],
      "text/plain": [
       "         Method   MAPE     RMSE\n",
       "0  Naive Method  27.12  1265.90\n",
       "0  Naive Method  80.19  2703.73"
      ]
     },
     "execution_count": 7,
     "metadata": {},
     "output_type": "execute_result"
    }
   ],
   "source": [
    "rmse = np.sqrt(mean_squared_error(test['Price'],y_hat_avg['avg_forecast'])).round(2)\n",
    "mape = np.round(np.mean(np.abs(test['Price']-y_hat_avg['avg_forecast'])/test['Price'])*100,2)\n",
    "\n",
    "tempResults = pd.DataFrame({'Method': 'Naive Method', 'MAPE': [mape], 'RMSE': [rmse]})\n",
    "results = pd.concat([results, tempResults])\n",
    "results"
   ]
  },
  {
   "cell_type": "markdown",
   "metadata": {},
   "source": [
    "## Simple moving average method - with MAPE and RMSE"
   ]
  },
  {
   "cell_type": "code",
   "execution_count": 8,
   "metadata": {},
   "outputs": [
    {
     "data": {
      "text/html": [
       "<div>\n",
       "<style scoped>\n",
       "    .dataframe tbody tr th:only-of-type {\n",
       "        vertical-align: middle;\n",
       "    }\n",
       "\n",
       "    .dataframe tbody tr th {\n",
       "        vertical-align: top;\n",
       "    }\n",
       "\n",
       "    .dataframe thead th {\n",
       "        text-align: right;\n",
       "    }\n",
       "</style>\n",
       "<table border=\"1\" class=\"dataframe\">\n",
       "  <thead>\n",
       "    <tr style=\"text-align: right;\">\n",
       "      <th></th>\n",
       "      <th>Method</th>\n",
       "      <th>MAPE</th>\n",
       "      <th>RMSE</th>\n",
       "    </tr>\n",
       "  </thead>\n",
       "  <tbody>\n",
       "    <tr>\n",
       "      <td>0</td>\n",
       "      <td>Naive Method</td>\n",
       "      <td>27.12</td>\n",
       "      <td>1265.90</td>\n",
       "    </tr>\n",
       "    <tr>\n",
       "      <td>0</td>\n",
       "      <td>Naive Method</td>\n",
       "      <td>80.19</td>\n",
       "      <td>2703.73</td>\n",
       "    </tr>\n",
       "    <tr>\n",
       "      <td>0</td>\n",
       "      <td>Simple moving average method(12 mths)</td>\n",
       "      <td>67.42</td>\n",
       "      <td>2338.94</td>\n",
       "    </tr>\n",
       "  </tbody>\n",
       "</table>\n",
       "</div>"
      ],
      "text/plain": [
       "                                  Method   MAPE     RMSE\n",
       "0                           Naive Method  27.12  1265.90\n",
       "0                           Naive Method  80.19  2703.73\n",
       "0  Simple moving average method(12 mths)  67.42  2338.94"
      ]
     },
     "execution_count": 8,
     "metadata": {},
     "output_type": "execute_result"
    }
   ],
   "source": [
    "y_hat_sma = data.copy()\n",
    "ma_window = 12\n",
    "y_hat_sma['sma_forecast'] = data['Price'].rolling(ma_window).mean()\n",
    "y_hat_sma['sma_forecast'][train_len:] = y_hat_sma['sma_forecast'][train_len-1]\n",
    "\n",
    "rmse = np.sqrt(mean_squared_error(test['Price'],y_hat_sma['sma_forecast'][train_len:])).round(2)\n",
    "mape = np.round(np.mean(np.abs(test['Price']-y_hat_sma['sma_forecast'][train_len:])/test['Price'])*100,2)\n",
    "\n",
    "tempResults = pd.DataFrame({'Method': 'Simple moving average method(12 mths)', 'MAPE': [mape], 'RMSE': [rmse]})\n",
    "results = pd.concat([results, tempResults])\n",
    "results"
   ]
  },
  {
   "cell_type": "code",
   "execution_count": 9,
   "metadata": {},
   "outputs": [
    {
     "data": {
      "text/html": [
       "<div>\n",
       "<style scoped>\n",
       "    .dataframe tbody tr th:only-of-type {\n",
       "        vertical-align: middle;\n",
       "    }\n",
       "\n",
       "    .dataframe tbody tr th {\n",
       "        vertical-align: top;\n",
       "    }\n",
       "\n",
       "    .dataframe thead th {\n",
       "        text-align: right;\n",
       "    }\n",
       "</style>\n",
       "<table border=\"1\" class=\"dataframe\">\n",
       "  <thead>\n",
       "    <tr style=\"text-align: right;\">\n",
       "      <th></th>\n",
       "      <th>Method</th>\n",
       "      <th>MAPE</th>\n",
       "      <th>RMSE</th>\n",
       "    </tr>\n",
       "  </thead>\n",
       "  <tbody>\n",
       "    <tr>\n",
       "      <td>0</td>\n",
       "      <td>Naive Method</td>\n",
       "      <td>27.12</td>\n",
       "      <td>1265.90</td>\n",
       "    </tr>\n",
       "    <tr>\n",
       "      <td>0</td>\n",
       "      <td>Naive Method</td>\n",
       "      <td>80.19</td>\n",
       "      <td>2703.73</td>\n",
       "    </tr>\n",
       "    <tr>\n",
       "      <td>0</td>\n",
       "      <td>Simple moving average method(12 mths)</td>\n",
       "      <td>67.42</td>\n",
       "      <td>2338.94</td>\n",
       "    </tr>\n",
       "    <tr>\n",
       "      <td>0</td>\n",
       "      <td>Simple moving average method(6 mths)</td>\n",
       "      <td>56.61</td>\n",
       "      <td>2035.79</td>\n",
       "    </tr>\n",
       "  </tbody>\n",
       "</table>\n",
       "</div>"
      ],
      "text/plain": [
       "                                  Method   MAPE     RMSE\n",
       "0                           Naive Method  27.12  1265.90\n",
       "0                           Naive Method  80.19  2703.73\n",
       "0  Simple moving average method(12 mths)  67.42  2338.94\n",
       "0   Simple moving average method(6 mths)  56.61  2035.79"
      ]
     },
     "execution_count": 9,
     "metadata": {},
     "output_type": "execute_result"
    }
   ],
   "source": [
    "y_hat_sma = data.copy()\n",
    "ma_window = 6\n",
    "y_hat_sma['sma_forecast'] = data['Price'].rolling(ma_window).mean()\n",
    "y_hat_sma['sma_forecast'][train_len:] = y_hat_sma['sma_forecast'][train_len-1]\n",
    "\n",
    "rmse = np.sqrt(mean_squared_error(test['Price'],y_hat_sma['sma_forecast'][train_len:])).round(2)\n",
    "mape = np.round(np.mean(np.abs(test['Price']-y_hat_sma['sma_forecast'][train_len:])/test['Price'])*100,2)\n",
    "\n",
    "tempResults = pd.DataFrame({'Method': 'Simple moving average method(6 mths)', 'MAPE': [mape], 'RMSE': [rmse]})\n",
    "results = pd.concat([results, tempResults])\n",
    "results"
   ]
  },
  {
   "cell_type": "code",
   "execution_count": 10,
   "metadata": {},
   "outputs": [
    {
     "data": {
      "text/html": [
       "<div>\n",
       "<style scoped>\n",
       "    .dataframe tbody tr th:only-of-type {\n",
       "        vertical-align: middle;\n",
       "    }\n",
       "\n",
       "    .dataframe tbody tr th {\n",
       "        vertical-align: top;\n",
       "    }\n",
       "\n",
       "    .dataframe thead th {\n",
       "        text-align: right;\n",
       "    }\n",
       "</style>\n",
       "<table border=\"1\" class=\"dataframe\">\n",
       "  <thead>\n",
       "    <tr style=\"text-align: right;\">\n",
       "      <th></th>\n",
       "      <th>Method</th>\n",
       "      <th>MAPE</th>\n",
       "      <th>RMSE</th>\n",
       "    </tr>\n",
       "  </thead>\n",
       "  <tbody>\n",
       "    <tr>\n",
       "      <td>0</td>\n",
       "      <td>Naive Method</td>\n",
       "      <td>27.12</td>\n",
       "      <td>1265.90</td>\n",
       "    </tr>\n",
       "    <tr>\n",
       "      <td>0</td>\n",
       "      <td>Naive Method</td>\n",
       "      <td>80.19</td>\n",
       "      <td>2703.73</td>\n",
       "    </tr>\n",
       "    <tr>\n",
       "      <td>0</td>\n",
       "      <td>Simple moving average method(12 mths)</td>\n",
       "      <td>67.42</td>\n",
       "      <td>2338.94</td>\n",
       "    </tr>\n",
       "    <tr>\n",
       "      <td>0</td>\n",
       "      <td>Simple moving average method(6 mths)</td>\n",
       "      <td>56.61</td>\n",
       "      <td>2035.79</td>\n",
       "    </tr>\n",
       "    <tr>\n",
       "      <td>0</td>\n",
       "      <td>Simple moving average method(3 mths)</td>\n",
       "      <td>47.81</td>\n",
       "      <td>1794.92</td>\n",
       "    </tr>\n",
       "  </tbody>\n",
       "</table>\n",
       "</div>"
      ],
      "text/plain": [
       "                                  Method   MAPE     RMSE\n",
       "0                           Naive Method  27.12  1265.90\n",
       "0                           Naive Method  80.19  2703.73\n",
       "0  Simple moving average method(12 mths)  67.42  2338.94\n",
       "0   Simple moving average method(6 mths)  56.61  2035.79\n",
       "0   Simple moving average method(3 mths)  47.81  1794.92"
      ]
     },
     "execution_count": 10,
     "metadata": {},
     "output_type": "execute_result"
    }
   ],
   "source": [
    "y_hat_sma = data.copy()\n",
    "ma_window = 3\n",
    "y_hat_sma['sma_forecast'] = data['Price'].rolling(ma_window).mean()\n",
    "y_hat_sma['sma_forecast'][train_len:] = y_hat_sma['sma_forecast'][train_len-1]\n",
    "\n",
    "rmse = np.sqrt(mean_squared_error(test['Price'],y_hat_sma['sma_forecast'][train_len:])).round(2)\n",
    "mape = np.round(np.mean(np.abs(test['Price']-y_hat_sma['sma_forecast'][train_len:])/test['Price'])*100,2)\n",
    "\n",
    "tempResults = pd.DataFrame({'Method': 'Simple moving average method(3 mths)', 'MAPE': [mape], 'RMSE': [rmse]})\n",
    "results = pd.concat([results, tempResults])\n",
    "results"
   ]
  },
  {
   "cell_type": "markdown",
   "metadata": {},
   "source": [
    "## Simple Exponential Smoothing - with MAPE and RMSE"
   ]
  },
  {
   "cell_type": "code",
   "execution_count": 11,
   "metadata": {},
   "outputs": [
    {
     "name": "stdout",
     "output_type": "stream",
     "text": [
      "{'smoothing_level': 1.0, 'smoothing_slope': nan, 'smoothing_seasonal': nan, 'damping_slope': nan, 'initial_level': 217.4, 'initial_slope': nan, 'initial_seasons': array([], dtype=float64), 'use_boxcox': False, 'lamda': None, 'remove_bias': False}\n"
     ]
    },
    {
     "data": {
      "text/html": [
       "<div>\n",
       "<style scoped>\n",
       "    .dataframe tbody tr th:only-of-type {\n",
       "        vertical-align: middle;\n",
       "    }\n",
       "\n",
       "    .dataframe tbody tr th {\n",
       "        vertical-align: top;\n",
       "    }\n",
       "\n",
       "    .dataframe thead th {\n",
       "        text-align: right;\n",
       "    }\n",
       "</style>\n",
       "<table border=\"1\" class=\"dataframe\">\n",
       "  <thead>\n",
       "    <tr style=\"text-align: right;\">\n",
       "      <th></th>\n",
       "      <th>Method</th>\n",
       "      <th>MAPE</th>\n",
       "      <th>RMSE</th>\n",
       "    </tr>\n",
       "  </thead>\n",
       "  <tbody>\n",
       "    <tr>\n",
       "      <td>0</td>\n",
       "      <td>Naive Method</td>\n",
       "      <td>27.12</td>\n",
       "      <td>1265.90</td>\n",
       "    </tr>\n",
       "    <tr>\n",
       "      <td>0</td>\n",
       "      <td>Naive Method</td>\n",
       "      <td>80.19</td>\n",
       "      <td>2703.73</td>\n",
       "    </tr>\n",
       "    <tr>\n",
       "      <td>0</td>\n",
       "      <td>Simple moving average method(12 mths)</td>\n",
       "      <td>67.42</td>\n",
       "      <td>2338.94</td>\n",
       "    </tr>\n",
       "    <tr>\n",
       "      <td>0</td>\n",
       "      <td>Simple moving average method(6 mths)</td>\n",
       "      <td>56.61</td>\n",
       "      <td>2035.79</td>\n",
       "    </tr>\n",
       "    <tr>\n",
       "      <td>0</td>\n",
       "      <td>Simple moving average method(3 mths)</td>\n",
       "      <td>47.81</td>\n",
       "      <td>1794.92</td>\n",
       "    </tr>\n",
       "    <tr>\n",
       "      <td>0</td>\n",
       "      <td>Simple exponential smoothing method</td>\n",
       "      <td>27.12</td>\n",
       "      <td>1265.90</td>\n",
       "    </tr>\n",
       "  </tbody>\n",
       "</table>\n",
       "</div>"
      ],
      "text/plain": [
       "                                  Method   MAPE     RMSE\n",
       "0                           Naive Method  27.12  1265.90\n",
       "0                           Naive Method  80.19  2703.73\n",
       "0  Simple moving average method(12 mths)  67.42  2338.94\n",
       "0   Simple moving average method(6 mths)  56.61  2035.79\n",
       "0   Simple moving average method(3 mths)  47.81  1794.92\n",
       "0    Simple exponential smoothing method  27.12  1265.90"
      ]
     },
     "execution_count": 11,
     "metadata": {},
     "output_type": "execute_result"
    }
   ],
   "source": [
    "from statsmodels.tsa.holtwinters import SimpleExpSmoothing\n",
    "\n",
    "model = SimpleExpSmoothing(train['Price'])\n",
    "model_fit = model.fit(optimized=True)\n",
    "print(model_fit.params)\n",
    "y_hat_ses = test.copy()\n",
    "y_hat_ses['ses_forecast'] = model_fit.forecast(3)\n",
    "\n",
    "rmse = np.sqrt(mean_squared_error(test['Price'], y_hat_ses['ses_forecast'])).round(2)\n",
    "mape = np.round(np.mean(np.abs(test['Price']-y_hat_ses['ses_forecast'])/test['Price'])*100,2)\n",
    "\n",
    "tempResults = pd.DataFrame({'Method': ['Simple exponential smoothing method'], 'MAPE': [mape], 'RMSE': [rmse]})\n",
    "results = pd.concat([results, tempResults])\n",
    "results"
   ]
  },
  {
   "cell_type": "markdown",
   "metadata": {},
   "source": [
    "## Holt's exponential smoothing method with Trend and MAPE and RMSE"
   ]
  },
  {
   "cell_type": "code",
   "execution_count": 12,
   "metadata": {},
   "outputs": [
    {
     "name": "stdout",
     "output_type": "stream",
     "text": [
      "{'smoothing_level': 1.0, 'smoothing_slope': 0.4216689816104592, 'smoothing_seasonal': nan, 'damping_slope': nan, 'initial_level': 203.68630825041842, 'initial_slope': 13.712946700068688, 'initial_seasons': array([], dtype=float64), 'use_boxcox': False, 'lamda': None, 'remove_bias': False}\n"
     ]
    },
    {
     "data": {
      "text/html": [
       "<div>\n",
       "<style scoped>\n",
       "    .dataframe tbody tr th:only-of-type {\n",
       "        vertical-align: middle;\n",
       "    }\n",
       "\n",
       "    .dataframe tbody tr th {\n",
       "        vertical-align: top;\n",
       "    }\n",
       "\n",
       "    .dataframe thead th {\n",
       "        text-align: right;\n",
       "    }\n",
       "</style>\n",
       "<table border=\"1\" class=\"dataframe\">\n",
       "  <thead>\n",
       "    <tr style=\"text-align: right;\">\n",
       "      <th></th>\n",
       "      <th>Method</th>\n",
       "      <th>MAPE</th>\n",
       "      <th>RMSE</th>\n",
       "    </tr>\n",
       "  </thead>\n",
       "  <tbody>\n",
       "    <tr>\n",
       "      <td>0</td>\n",
       "      <td>Naive Method</td>\n",
       "      <td>27.12</td>\n",
       "      <td>1265.90</td>\n",
       "    </tr>\n",
       "    <tr>\n",
       "      <td>0</td>\n",
       "      <td>Naive Method</td>\n",
       "      <td>80.19</td>\n",
       "      <td>2703.73</td>\n",
       "    </tr>\n",
       "    <tr>\n",
       "      <td>0</td>\n",
       "      <td>Simple moving average method(12 mths)</td>\n",
       "      <td>67.42</td>\n",
       "      <td>2338.94</td>\n",
       "    </tr>\n",
       "    <tr>\n",
       "      <td>0</td>\n",
       "      <td>Simple moving average method(6 mths)</td>\n",
       "      <td>56.61</td>\n",
       "      <td>2035.79</td>\n",
       "    </tr>\n",
       "    <tr>\n",
       "      <td>0</td>\n",
       "      <td>Simple moving average method(3 mths)</td>\n",
       "      <td>47.81</td>\n",
       "      <td>1794.92</td>\n",
       "    </tr>\n",
       "    <tr>\n",
       "      <td>0</td>\n",
       "      <td>Simple exponential smoothing method</td>\n",
       "      <td>27.12</td>\n",
       "      <td>1265.90</td>\n",
       "    </tr>\n",
       "    <tr>\n",
       "      <td>0</td>\n",
       "      <td>Holt smoothing method</td>\n",
       "      <td>11.01</td>\n",
       "      <td>500.10</td>\n",
       "    </tr>\n",
       "  </tbody>\n",
       "</table>\n",
       "</div>"
      ],
      "text/plain": [
       "                                  Method   MAPE     RMSE\n",
       "0                           Naive Method  27.12  1265.90\n",
       "0                           Naive Method  80.19  2703.73\n",
       "0  Simple moving average method(12 mths)  67.42  2338.94\n",
       "0   Simple moving average method(6 mths)  56.61  2035.79\n",
       "0   Simple moving average method(3 mths)  47.81  1794.92\n",
       "0    Simple exponential smoothing method  27.12  1265.90\n",
       "0                  Holt smoothing method  11.01   500.10"
      ]
     },
     "execution_count": 12,
     "metadata": {},
     "output_type": "execute_result"
    }
   ],
   "source": [
    "from statsmodels.tsa.holtwinters import ExponentialSmoothing\n",
    "\n",
    "model = ExponentialSmoothing(np.asarray(train['Price']), trend='additive')\n",
    "#As the trend is linear, hence, using additive\n",
    "# The parameter needs an array and np.asarry() converts the dataFrame into an array\n",
    "model_fit = model.fit(optimized=True)\n",
    "print(model_fit.params)\n",
    "y_hat_holt = test.copy()\n",
    "y_hat_holt['holt_forecast'] = model_fit.forecast(3)\n",
    "\n",
    "rmse = np.sqrt(mean_squared_error(test['Price'], y_hat_holt['holt_forecast'])).round(2)\n",
    "mape = np.round(np.mean(np.abs(test['Price']-y_hat_holt['holt_forecast'])/test['Price'])*100,2)\n",
    "\n",
    "tempResults = pd.DataFrame({'Method': ['Holt smoothing method'], 'MAPE': [mape], 'RMSE': [rmse]})\n",
    "results = pd.concat([results, tempResults])\n",
    "results"
   ]
  },
  {
   "cell_type": "markdown",
   "metadata": {},
   "source": [
    "## Holt Winter's Additive Method with Trend and Seasonality"
   ]
  },
  {
   "cell_type": "code",
   "execution_count": 13,
   "metadata": {},
   "outputs": [
    {
     "name": "stdout",
     "output_type": "stream",
     "text": [
      "{'smoothing_level': 0.9999999966296118, 'smoothing_slope': 0.4158840347660917, 'smoothing_seasonal': 0.0, 'damping_slope': nan, 'initial_level': 559.4835559832011, 'initial_slope': 1.141586351102969, 'initial_seasons': array([-340.14176737, -301.86534664, -319.2290442 ]), 'use_boxcox': False, 'lamda': None, 'remove_bias': False}\n"
     ]
    },
    {
     "name": "stderr",
     "output_type": "stream",
     "text": [
      "C:\\ProgramData\\Anaconda3\\lib\\site-packages\\statsmodels\\tsa\\holtwinters.py:712: ConvergenceWarning: Optimization failed to converge. Check mle_retvals.\n",
      "  ConvergenceWarning)\n"
     ]
    },
    {
     "data": {
      "text/html": [
       "<div>\n",
       "<style scoped>\n",
       "    .dataframe tbody tr th:only-of-type {\n",
       "        vertical-align: middle;\n",
       "    }\n",
       "\n",
       "    .dataframe tbody tr th {\n",
       "        vertical-align: top;\n",
       "    }\n",
       "\n",
       "    .dataframe thead th {\n",
       "        text-align: right;\n",
       "    }\n",
       "</style>\n",
       "<table border=\"1\" class=\"dataframe\">\n",
       "  <thead>\n",
       "    <tr style=\"text-align: right;\">\n",
       "      <th></th>\n",
       "      <th>Method</th>\n",
       "      <th>MAPE</th>\n",
       "      <th>RMSE</th>\n",
       "    </tr>\n",
       "  </thead>\n",
       "  <tbody>\n",
       "    <tr>\n",
       "      <td>0</td>\n",
       "      <td>Naive Method</td>\n",
       "      <td>27.12</td>\n",
       "      <td>1265.90</td>\n",
       "    </tr>\n",
       "    <tr>\n",
       "      <td>0</td>\n",
       "      <td>Naive Method</td>\n",
       "      <td>80.19</td>\n",
       "      <td>2703.73</td>\n",
       "    </tr>\n",
       "    <tr>\n",
       "      <td>0</td>\n",
       "      <td>Simple moving average method(12 mths)</td>\n",
       "      <td>67.42</td>\n",
       "      <td>2338.94</td>\n",
       "    </tr>\n",
       "    <tr>\n",
       "      <td>0</td>\n",
       "      <td>Simple moving average method(6 mths)</td>\n",
       "      <td>56.61</td>\n",
       "      <td>2035.79</td>\n",
       "    </tr>\n",
       "    <tr>\n",
       "      <td>0</td>\n",
       "      <td>Simple moving average method(3 mths)</td>\n",
       "      <td>47.81</td>\n",
       "      <td>1794.92</td>\n",
       "    </tr>\n",
       "    <tr>\n",
       "      <td>0</td>\n",
       "      <td>Simple exponential smoothing method</td>\n",
       "      <td>27.12</td>\n",
       "      <td>1265.90</td>\n",
       "    </tr>\n",
       "    <tr>\n",
       "      <td>0</td>\n",
       "      <td>Holt smoothing method</td>\n",
       "      <td>11.01</td>\n",
       "      <td>500.10</td>\n",
       "    </tr>\n",
       "    <tr>\n",
       "      <td>0</td>\n",
       "      <td>Holt Winter's additive smoothing method</td>\n",
       "      <td>10.12</td>\n",
       "      <td>515.11</td>\n",
       "    </tr>\n",
       "  </tbody>\n",
       "</table>\n",
       "</div>"
      ],
      "text/plain": [
       "                                    Method   MAPE     RMSE\n",
       "0                             Naive Method  27.12  1265.90\n",
       "0                             Naive Method  80.19  2703.73\n",
       "0    Simple moving average method(12 mths)  67.42  2338.94\n",
       "0     Simple moving average method(6 mths)  56.61  2035.79\n",
       "0     Simple moving average method(3 mths)  47.81  1794.92\n",
       "0      Simple exponential smoothing method  27.12  1265.90\n",
       "0                    Holt smoothing method  11.01   500.10\n",
       "0  Holt Winter's additive smoothing method  10.12   515.11"
      ]
     },
     "execution_count": 13,
     "metadata": {},
     "output_type": "execute_result"
    }
   ],
   "source": [
    "y_hat_hwa = test.copy()\n",
    "model = ExponentialSmoothing(np.asarray(train['Price']), seasonal_periods=3, trend='add', seasonal='add')\n",
    "model_fit = model.fit(optimized=True)\n",
    "print(model_fit.params)\n",
    "y_hat_hwa['hwa_forecast'] = model_fit.forecast(3)\n",
    "\n",
    "rmse = np.sqrt(mean_squared_error(test['Price'], y_hat_hwa['hwa_forecast'])).round(2)\n",
    "mape = np.round(np.mean(np.abs(test['Price']-y_hat_hwa['hwa_forecast'])/test['Price'])*100,2)\n",
    "\n",
    "tempResults = pd.DataFrame({'Method': ['Holt Winter\\'s additive smoothing method'], 'MAPE': [mape], 'RMSE': [rmse]})\n",
    "results = pd.concat([results, tempResults])\n",
    "results"
   ]
  },
  {
   "cell_type": "markdown",
   "metadata": {},
   "source": [
    "## Holt Winter's Multiplicative Method with Trend and Seasonality"
   ]
  },
  {
   "cell_type": "code",
   "execution_count": 14,
   "metadata": {},
   "outputs": [
    {
     "name": "stderr",
     "output_type": "stream",
     "text": [
      "C:\\ProgramData\\Anaconda3\\lib\\site-packages\\statsmodels\\tsa\\holtwinters.py:712: ConvergenceWarning: Optimization failed to converge. Check mle_retvals.\n",
      "  ConvergenceWarning)\n"
     ]
    },
    {
     "name": "stdout",
     "output_type": "stream",
     "text": [
      "{'smoothing_level': 1.0, 'smoothing_slope': 0.3159217878524853, 'smoothing_seasonal': 0.0, 'damping_slope': nan, 'initial_level': 559.5299998376623, 'initial_slope': 1.1444444468674946, 'initial_seasons': array([0.40269202, 0.46254117, 0.41789625]), 'use_boxcox': False, 'lamda': None, 'remove_bias': False}\n"
     ]
    },
    {
     "data": {
      "text/html": [
       "<div>\n",
       "<style scoped>\n",
       "    .dataframe tbody tr th:only-of-type {\n",
       "        vertical-align: middle;\n",
       "    }\n",
       "\n",
       "    .dataframe tbody tr th {\n",
       "        vertical-align: top;\n",
       "    }\n",
       "\n",
       "    .dataframe thead th {\n",
       "        text-align: right;\n",
       "    }\n",
       "</style>\n",
       "<table border=\"1\" class=\"dataframe\">\n",
       "  <thead>\n",
       "    <tr style=\"text-align: right;\">\n",
       "      <th></th>\n",
       "      <th>Method</th>\n",
       "      <th>MAPE</th>\n",
       "      <th>RMSE</th>\n",
       "    </tr>\n",
       "  </thead>\n",
       "  <tbody>\n",
       "    <tr>\n",
       "      <td>0</td>\n",
       "      <td>Naive Method</td>\n",
       "      <td>27.12</td>\n",
       "      <td>1265.90</td>\n",
       "    </tr>\n",
       "    <tr>\n",
       "      <td>0</td>\n",
       "      <td>Naive Method</td>\n",
       "      <td>80.19</td>\n",
       "      <td>2703.73</td>\n",
       "    </tr>\n",
       "    <tr>\n",
       "      <td>0</td>\n",
       "      <td>Simple moving average method(12 mths)</td>\n",
       "      <td>67.42</td>\n",
       "      <td>2338.94</td>\n",
       "    </tr>\n",
       "    <tr>\n",
       "      <td>0</td>\n",
       "      <td>Simple moving average method(6 mths)</td>\n",
       "      <td>56.61</td>\n",
       "      <td>2035.79</td>\n",
       "    </tr>\n",
       "    <tr>\n",
       "      <td>0</td>\n",
       "      <td>Simple moving average method(3 mths)</td>\n",
       "      <td>47.81</td>\n",
       "      <td>1794.92</td>\n",
       "    </tr>\n",
       "    <tr>\n",
       "      <td>0</td>\n",
       "      <td>Simple exponential smoothing method</td>\n",
       "      <td>27.12</td>\n",
       "      <td>1265.90</td>\n",
       "    </tr>\n",
       "    <tr>\n",
       "      <td>0</td>\n",
       "      <td>Holt smoothing method</td>\n",
       "      <td>11.01</td>\n",
       "      <td>500.10</td>\n",
       "    </tr>\n",
       "    <tr>\n",
       "      <td>0</td>\n",
       "      <td>Holt Winter's additive smoothing method</td>\n",
       "      <td>10.12</td>\n",
       "      <td>515.11</td>\n",
       "    </tr>\n",
       "    <tr>\n",
       "      <td>0</td>\n",
       "      <td>Holt Winter's multiplicative smoothing method</td>\n",
       "      <td>16.57</td>\n",
       "      <td>731.90</td>\n",
       "    </tr>\n",
       "  </tbody>\n",
       "</table>\n",
       "</div>"
      ],
      "text/plain": [
       "                                          Method   MAPE     RMSE\n",
       "0                                   Naive Method  27.12  1265.90\n",
       "0                                   Naive Method  80.19  2703.73\n",
       "0          Simple moving average method(12 mths)  67.42  2338.94\n",
       "0           Simple moving average method(6 mths)  56.61  2035.79\n",
       "0           Simple moving average method(3 mths)  47.81  1794.92\n",
       "0            Simple exponential smoothing method  27.12  1265.90\n",
       "0                          Holt smoothing method  11.01   500.10\n",
       "0        Holt Winter's additive smoothing method  10.12   515.11\n",
       "0  Holt Winter's multiplicative smoothing method  16.57   731.90"
      ]
     },
     "execution_count": 14,
     "metadata": {},
     "output_type": "execute_result"
    }
   ],
   "source": [
    "y_hat_hwm = test.copy()\n",
    "model = ExponentialSmoothing(np.asarray(train['Price']), seasonal_periods=3, trend='add', seasonal='mul')\n",
    "model_fit = model.fit(optimized=True)\n",
    "print(model_fit.params)\n",
    "y_hat_hwm['hwm_forecast'] = model_fit.forecast(3)\n",
    "\n",
    "rmse = np.sqrt(mean_squared_error(test['Price'], y_hat_hwm['hwm_forecast'])).round(2)\n",
    "mape = np.round(np.mean(np.abs(test['Price']-y_hat_hwm['hwm_forecast'])/test['Price'])*100,2)\n",
    "\n",
    "tempResults = pd.DataFrame({'Method': ['Holt Winter\\'s multiplicative smoothing method'], 'MAPE': [mape], 'RMSE': [rmse]})\n",
    "results = pd.concat([results, tempResults])\n",
    "results"
   ]
  }
 ],
 "metadata": {
  "kernelspec": {
   "display_name": "Python 3",
   "language": "python",
   "name": "python3"
  },
  "language_info": {
   "codemirror_mode": {
    "name": "ipython",
    "version": 3
   },
   "file_extension": ".py",
   "mimetype": "text/x-python",
   "name": "python",
   "nbconvert_exporter": "python",
   "pygments_lexer": "ipython3",
   "version": "3.7.4"
  }
 },
 "nbformat": 4,
 "nbformat_minor": 2
}
